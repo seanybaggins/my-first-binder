{
 "cells": [
  {
   "cell_type": "code",
   "execution_count": null,
   "metadata": {},
   "outputs": [],
   "source": [
    "from ipywidgets import interact\n",
    "import numpy as np\n",
    "import random"
   ]
  },
  {
   "cell_type": "code",
   "execution_count": null,
   "metadata": {
    "lines_to_next_cell": 1
   },
   "outputs": [],
   "source": [
    "PRIZES = ['Car', 'Goat 1', 'Goat 2']"
   ]
  },
  {
   "cell_type": "code",
   "execution_count": null,
   "metadata": {
    "lines_to_next_cell": 2
   },
   "outputs": [],
   "source": [
    "def monty_hall(example_num=0):\n",
    "    '''\n",
    "    Simulates one round of the Monty Hall Problem. Outputs a tuple of\n",
    "    (result if stay, result if switch, result behind opened door) where\n",
    "    each results is one of PRIZES.\n",
    "    '''\n",
    "    pick = random.choice(PRIZES)\n",
    "    opened = random.choice(\n",
    "        [p for p in PRIZES if p != pick and p != 'Car']\n",
    "    )\n",
    "    remainder = next(p for p in PRIZES if p != pick and p != opened)\n",
    "    return (pick, remainder, opened)"
   ]
  }
 ],
 "metadata": {
  "jupytext": {
   "cell_metadata_filter": "-all",
   "main_language": "python",
   "notebook_metadata_filter": "-all"
  }
 },
 "nbformat": 4,
 "nbformat_minor": 2
}
